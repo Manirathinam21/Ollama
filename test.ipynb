{
 "cells": [
  {
   "cell_type": "code",
   "execution_count": 1,
   "metadata": {},
   "outputs": [],
   "source": [
    "\n",
    "from langchain.llms import Ollama"
   ]
  },
  {
   "cell_type": "code",
   "execution_count": 2,
   "metadata": {},
   "outputs": [],
   "source": [
    "model=Ollama(base_url=\"http://localhost:11434\",model=\"llama2\")"
   ]
  },
  {
   "cell_type": "code",
   "execution_count": 3,
   "metadata": {},
   "outputs": [
    {
     "name": "stderr",
     "output_type": "stream",
     "text": [
      "f:\\Generative_AI\\Projects\\Chainlit_QA\\venv\\lib\\site-packages\\langchain_core\\_api\\deprecation.py:119: LangChainDeprecationWarning: The method `BaseLLM.__call__` was deprecated in langchain-core 0.1.7 and will be removed in 0.3.0. Use invoke instead.\n",
      "  warn_deprecated(\n"
     ]
    },
    {
     "data": {
      "text/plain": [
       "'\\n Certainly! The field of Artificial Intelligence (AI) has been rapidly evolving over the past few decades, and there have been many significant research developments. Here are some of the most notable ones:\\n\\n1. Machine Learning: Machine learning is a subfield of AI that involves developing algorithms and statistical models that enable computers to learn from data without being explicitly programmed. Research in this area has led to the development of popular machine learning frameworks such as TensorFlow, PyTorch, and Scikit-learn.\\n2. Natural Language Processing (NLP): NLP is a subfield of AI that focuses on enabling computers to understand, interpret, and generate human language. Research in this area has led to the development of chatbots, virtual assistants, and language translation systems.\\n3. Computer Vision: Computer vision is a subfield of AI that focuses on enabling computers to interpret and understand visual data from the world. Research in this area has led to the development of image recognition systems, self-driving cars, and other applications.\\n4. Robotics: Robotics is a subfield of AI that involves developing robots that can perform tasks that typically require human intelligence. Research in this area has led to the development of robots that can navigate complex environments, manipulate objects, and even perform surgical procedures.\\n5. Deep Learning: Deep learning is a subfield of machine learning that focuses on developing artificial neural networks that are capable of learning and improving on their own by analyzing large amounts of data. Research in this area has led to the development of state-of-the-art image recognition systems, natural language processing systems, and other applications.\\n6. Reinforcement Learning: Reinforcement learning is a subfield of machine learning that involves training algorithms to make decisions based on feedback from their environment. Research in this area has led to the development of AI systems that can learn to play complex games like Go and StarCraft, and even develop their own strategies for winning.\\n7. Generative Models: Generative models are a subfield of machine learning that involve training algorithms to generate new data that is similar to a given dataset. Research in this area has led to the development of AI systems that can generate realistic images, videos, and music.\\n8. Explainability and Interpretability: With the increasing use of AI models in critical applications, there is a growing need to understand how these models make decisions. Explainability and interpretability research aims to provide insights into how AI models work and why they make certain decisions.\\n9. Adversarial Robustness: As AI models become more widespread, there is a growing concern about their vulnerability to adversarial attacks, which are designed to manipulate the decision-making process of AI systems. Research in this area focuses on developing techniques to make AI models more robust against these attacks.\\n10. Ethics and Fairness: With the increasing use of AI models in critical applications, there is a growing need to ensure that these models are fair and unbiased. Research in this area focuses on developing techniques to detect and mitigate bias in AI systems.\\n\\nThese are just a few examples of the many significant research developments in the field of AI. As AI continues to evolve, we can expect to see even more innovative applications and advancements in the coming years.'"
      ]
     },
     "execution_count": 3,
     "metadata": {},
     "output_type": "execute_result"
    }
   ],
   "source": [
    "model(\"hi can you tell me the most significat research in the filed of AI?\")"
   ]
  },
  {
   "cell_type": "code",
   "execution_count": 4,
   "metadata": {},
   "outputs": [
    {
     "data": {
      "text/plain": [
       "\"\\nOf course! Artificial intelligence (AI) is a field of computer science that focuses on creating intelligent machines that can perform tasks that typically require human intelligence, such as learning, problem-solving, and decision-making. The goal of AI research is to develop algorithms and systems that can learn from data, make decisions, and improve their performance over time, without the need for explicit programming or supervision.\\n\\nThere are several subfields within AI, including:\\n\\n1. Machine Learning: This involves training machines to learn from data, without being explicitly programmed. Machine learning algorithms can be used for tasks such as image and speech recognition, natural language processing, and predictive analytics.\\n2. Natural Language Processing (NLP): This subfield focuses on enabling machines to understand, interpret, and generate human language. NLP is used in applications such as chatbots, virtual assistants, and language translation software.\\n3. Robotics: This involves developing machines that can perform tasks that typically require human intelligence, such as manipulation and locomotion. Robotics is used in applications such as autonomous vehicles, robotic arms, and drones.\\n4. Computer Vision: This subfield focuses on enabling machines to interpret and understand visual data from the world around us. Computer vision is used in applications such as image recognition, object detection, and facial recognition.\\n5. Expert Systems: These are knowledge-based systems that mimic the decision-making abilities of a human expert in a particular domain. Expert systems are used in applications such as medical diagnosis, financial planning, and customer service.\\n6. Robot Ethics: This is a relatively new subfield that focuses on the ethical considerations of AI, such as privacy, bias, and accountability.\\n7. Human-Computer Interaction (HCI): This involves designing systems that can interact with humans in a natural and intuitive way. HCI is used in applications such as user interfaces, gaming, and virtual reality.\\n8. AI for Social Good: This subfield focuses on using AI to solve some of the world's most pressing social and environmental problems, such as climate change, healthcare, and education.\\n\\nThere are many different approaches to building AI systems, including:\\n\\n1. Rule-based systems: These use pre-defined rules to make decisions and take actions.\\n2. Decision trees: These use a tree-like structure to represent knowledge and reason about it.\\n3. Neural networks: These are modeled after the structure and function of the human brain, and can learn from data without being explicitly programmed.\\n4. Evolutionary algorithms: These use principles of evolution and natural selection to breed AI systems that become increasingly intelligent over time.\\n5. Hybrid approaches: These combine different techniques, such as rule-based and neural networks, to create more powerful and flexible AI systems.\\n\\nThe applications of AI are vast and varied, and include:\\n\\n1. Healthcare: AI can be used for medical diagnosis, drug discovery, and personalized treatment plans.\\n2. Finance: AI can be used for fraud detection, credit risk assessment, and portfolio management.\\n3. Retail: AI can be used for product recommendation, demand forecasting, and supply chain optimization.\\n4. Manufacturing: AI can be used for predictive maintenance, quality control, and inventory management.\\n5. Transportation: AI can be used for autonomous vehicles, traffic flow optimization, and logistics planning.\\n6. Education: AI can be used for personalized learning, student assessment, and curriculum development.\\n7. Energy: AI can be used for energy consumption forecasting, demand response management, and renewable energy integration.\\n8. Agriculture: AI can be used for crop yield prediction, precision farming, and livestock management.\\n9. Security: AI can be used for intrusion detection, malware analysis, and cybersecurity threat intelligence.\\n10. Environmental monitoring: AI can be used for climate change monitoring, air quality monitoring, and wildlife conservation.\\n\\nThese are just a few examples of the many exciting applications of AI. As the field continues to evolve, we can expect to see even more innovative uses of AI in the years ahead.\""
      ]
     },
     "execution_count": 4,
     "metadata": {},
     "output_type": "execute_result"
    }
   ],
   "source": [
    "model(\"hi can you tell me the about AI?\")"
   ]
  },
  {
   "cell_type": "code",
   "execution_count": null,
   "metadata": {},
   "outputs": [],
   "source": []
  }
 ],
 "metadata": {
  "kernelspec": {
   "display_name": "base",
   "language": "python",
   "name": "python3"
  },
  "language_info": {
   "codemirror_mode": {
    "name": "ipython",
    "version": 3
   },
   "file_extension": ".py",
   "mimetype": "text/x-python",
   "name": "python",
   "nbconvert_exporter": "python",
   "pygments_lexer": "ipython3",
   "version": "3.10.14"
  }
 },
 "nbformat": 4,
 "nbformat_minor": 2
}
